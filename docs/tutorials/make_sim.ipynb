{
 "cells": [
  {
   "cell_type": "markdown",
   "id": "ec70a4e2",
   "metadata": {},
   "source": [
    "# pyC$^2$Ray Simulation Class\n",
    "\n",
    "This tutorial presents the Python class that manages the pyC$^2$Ray simulations for your custom EoR simulation."
   ]
  },
  {
   "cell_type": "code",
   "execution_count": 2,
   "id": "a2b9c6c0",
   "metadata": {},
   "outputs": [],
   "source": [
    "import pyc2ray as pc2r\n",
    "import numpy as np, yaml\n",
    "import matplotlib.pyplot as plt\n",
    "import astropy.units as u\n",
    "import astropy.constants as cst"
   ]
  },
  {
   "cell_type": "markdown",
   "id": "e4eb81ea-2a37-43bd-b8e0-b0317a4d10a7",
   "metadata": {},
   "source": [
    "The `C2Ray` Python class is a fundamental tool of the pyC$2$Ray simulation. This object group includes the __basic required functions__ to set up a simulation (e.g., cosmology, time evolution, I/O, raytracing, chemistry, etc.) and access and manage the parameters in the parameter file.\n",
    "\n",
    "Look at the tutorial on the parameter file for an overview.\n",
    "\n",
    "pyC$^2$Ray provides the __basic class__, named `C2Ray`, that is later inherited by the other existing and more extensive class"
   ]
  },
  {
   "cell_type": "code",
   "execution_count": 3,
   "id": "e95a0851-14c8-4026-b0bd-2852da24a278",
   "metadata": {
    "tags": []
   },
   "outputs": [
    {
     "name": "stdout",
     "output_type": "stream",
     "text": [
      "Number of GPUS 1                 _________   ____            \n",
      "    ____  __  __/ ____/__ \\ / __ \\____ ___  __\n",
      "   / __ \\/ / / / /    __/ // /_/ / __ `/ / / /\n",
      "  / /_/ / /_/ / /___ / __// _, _/ /_/ / /_/ / \n",
      " / .___/\\__, /\\____//____/_/ |_|\\__,_/\\__, /  \n",
      "/_/    /____/                        /____/   \n",
      "\n",
      "\n",
      "GPU Device ID 0: \"NVIDIA RTX A1000 6GB Laptop GPU\" with compute capability 8.6\n",
      "Successfully allocated 536.871 Mb of device memory for grid of size N = 256, with source batch size 1\n",
      "Welcome! Mesh size is N = 256.\n",
      "Simulation Box size (comoving Mpc): 1.280e+02\n",
      "Cosmology is on, scaling comoving quantities to the initial redshift, which is z0 = 12.000...\n",
      "Cosmological parameters used:\n",
      "h   = 0.6766, Tcmb0 = 2.725e+00\n",
      "Om0 = 0.3097, Ob0   = 0.0490\n",
      "Using power-law opacity with 10,000 table points between tau=10^(-20) and tau=10^(4)\n",
      "Using Black-Body sources with effective temperature T = 5.0e+04 K and Radius  1.437e-11 rsun\n",
      "Spectrum Frequency Range: 3.288e+15 to 1.316e+17 Hz\n",
      "This is Energy:           1.360e+01 to 5.442e+02 eV\n",
      "Integrating photoionization rates tables...\n",
      "INFO: No heating rates\n",
      "Successfully copied radiation tables to GPU memory.\n",
      "\n",
      "---- Calculated Clumping Factor (constant model):\n",
      " min, mean and max clumping : 1.000e+00  1.000e+00  1.000e+00\n",
      "\n",
      "---- Calculated Mean-Free Path (constant model):\n",
      "Maximum comoving distance for photons from source mfp = 15.00 cMpc (constant model).\n",
      " This corresponds to 30.000 grid cells.\n",
      "\n",
      "Using ASORA Raytracing ( q_max = 52 )\n",
      "Running in non-MPI (single-GPU/CPU) mode\n",
      "Starting simulation... \n",
      "\n",
      "\n"
     ]
    }
   ],
   "source": [
    "sim = pc2r.C2Ray(paramfile='parameters.yml')"
   ]
  },
  {
   "cell_type": "markdown",
   "id": "3fd0492b",
   "metadata": {},
   "source": [
    "Here is an example of how to access the cosmology class (from `astropy`) from the pyC$^2$Ray simulation class."
   ]
  },
  {
   "cell_type": "code",
   "execution_count": 4,
   "id": "325d1095",
   "metadata": {},
   "outputs": [
    {
     "data": {
      "text/latex": [
       "$67.66 \\; \\mathrm{\\frac{km}{Mpc\\,s}}$"
      ],
      "text/plain": [
       "<Quantity 67.66 km / (Mpc s)>"
      ]
     },
     "execution_count": 4,
     "metadata": {},
     "output_type": "execute_result"
    }
   ],
   "source": [
    "sim.cosmology.H0"
   ]
  },
  {
   "cell_type": "markdown",
   "id": "9426b88d",
   "metadata": {},
   "source": [
    "Here is another example of how to set the time step between two redshift steps."
   ]
  },
  {
   "cell_type": "code",
   "execution_count": 12,
   "id": "d3889afc-c271-4160-974a-6f1217bb730a",
   "metadata": {
    "tags": []
   },
   "outputs": [
    {
     "name": "stdout",
     "output_type": "stream",
     "text": [
      "24.678582778205058 Myr\n",
      "389.6853979573013 Myr\n",
      "414.36398073550635 Myr 414.36398073550635 Myr\n"
     ]
    }
   ],
   "source": [
    "z_1, z_2 = 11.5, 11.0\n",
    "\n",
    "dt = sim.set_timestep(z1=z_1, z2=z_2, num_timesteps=1) * u.s\n",
    "print(dt.to('Myr'))\n",
    "\n",
    "t_1 = sim.cosmology.age(z_1).to('Myr')\n",
    "print(t_1)\n",
    "t_2 = sim.cosmology.age(z_2).to('Myr')\n",
    "print(t_1+dt, t_2)"
   ]
  },
  {
   "cell_type": "markdown",
   "id": "7ca87e95",
   "metadata": {},
   "source": []
  },
  {
   "cell_type": "code",
   "execution_count": 14,
   "id": "cc078e6c-c8db-4be9-8c25-b292eb1de0fd",
   "metadata": {
    "tags": []
   },
   "outputs": [
    {
     "name": "stdout",
     "output_type": "stream",
     "text": [
      "\u001b[0;31mSignature:\u001b[0m \u001b[0msim\u001b[0m\u001b[0;34m.\u001b[0m\u001b[0mwrite_output\u001b[0m\u001b[0;34m(\u001b[0m\u001b[0mz\u001b[0m\u001b[0;34m,\u001b[0m \u001b[0mext\u001b[0m\u001b[0;34m=\u001b[0m\u001b[0;34m'.dat'\u001b[0m\u001b[0;34m)\u001b[0m\u001b[0;34m\u001b[0m\u001b[0;34m\u001b[0m\u001b[0m\n",
      "\u001b[0;31mDocstring:\u001b[0m\n",
      "Write ionization fraction & ionization rates as C2Ray binary files\n",
      "\n",
      "Parameters\n",
      "----------\n",
      "z : float\n",
      "    Redshift (used to name the file)\n",
      "\u001b[0;31mSource:\u001b[0m   \n",
      "    \u001b[0;32mdef\u001b[0m \u001b[0mwrite_output\u001b[0m\u001b[0;34m(\u001b[0m\u001b[0mself\u001b[0m\u001b[0;34m,\u001b[0m \u001b[0mz\u001b[0m\u001b[0;34m,\u001b[0m \u001b[0mext\u001b[0m\u001b[0;34m=\u001b[0m\u001b[0;34m'.dat'\u001b[0m\u001b[0;34m)\u001b[0m\u001b[0;34m:\u001b[0m\u001b[0;34m\u001b[0m\n",
      "\u001b[0;34m\u001b[0m        \u001b[0;34m\"\"\"Write ionization fraction & ionization rates as C2Ray binary files\u001b[0m\n",
      "\u001b[0;34m\u001b[0m\n",
      "\u001b[0;34m        Parameters\u001b[0m\n",
      "\u001b[0;34m        ----------\u001b[0m\n",
      "\u001b[0;34m        z : float\u001b[0m\n",
      "\u001b[0;34m            Redshift (used to name the file)\u001b[0m\n",
      "\u001b[0;34m        ext : string\u001b[0m\n",
      "\u001b[0;34m            extension of the output file. If '.dat' save a binary file (with tools21cm), otherwise '.npy'.\u001b[0m\n",
      "\u001b[0;34m        \"\"\"\u001b[0m\u001b[0;34m\u001b[0m\n",
      "\u001b[0;34m\u001b[0m        \u001b[0;32mif\u001b[0m\u001b[0;34m(\u001b[0m\u001b[0mself\u001b[0m\u001b[0;34m.\u001b[0m\u001b[0mrank\u001b[0m \u001b[0;34m==\u001b[0m \u001b[0;36m0\u001b[0m\u001b[0;34m)\u001b[0m\u001b[0;34m:\u001b[0m\u001b[0;34m\u001b[0m\n",
      "\u001b[0;34m\u001b[0m            \u001b[0msuffix\u001b[0m \u001b[0;34m=\u001b[0m \u001b[0;34mf\"_z{z:.3f}\"\u001b[0m\u001b[0;34m+\u001b[0m\u001b[0mext\u001b[0m\u001b[0;34m\u001b[0m\n",
      "\u001b[0;34m\u001b[0m            \u001b[0;32mif\u001b[0m\u001b[0;34m(\u001b[0m\u001b[0msuffix\u001b[0m\u001b[0;34m.\u001b[0m\u001b[0mendswith\u001b[0m\u001b[0;34m(\u001b[0m\u001b[0;34m'.dat'\u001b[0m\u001b[0;34m)\u001b[0m\u001b[0;34m)\u001b[0m\u001b[0;34m:\u001b[0m\u001b[0;34m\u001b[0m\n",
      "\u001b[0;34m\u001b[0m                \u001b[0mt2c\u001b[0m\u001b[0;34m.\u001b[0m\u001b[0msave_cbin\u001b[0m\u001b[0;34m(\u001b[0m\u001b[0mfilename\u001b[0m\u001b[0;34m=\u001b[0m\u001b[0mself\u001b[0m\u001b[0;34m.\u001b[0m\u001b[0mresults_basename\u001b[0m \u001b[0;34m+\u001b[0m \u001b[0;34m\"xfrac\"\u001b[0m \u001b[0;34m+\u001b[0m \u001b[0msuffix\u001b[0m\u001b[0;34m,\u001b[0m \u001b[0mdata\u001b[0m\u001b[0;34m=\u001b[0m\u001b[0mself\u001b[0m\u001b[0;34m.\u001b[0m\u001b[0mxh\u001b[0m\u001b[0;34m,\u001b[0m \u001b[0mbits\u001b[0m\u001b[0;34m=\u001b[0m\u001b[0;36m64\u001b[0m\u001b[0;34m,\u001b[0m \u001b[0morder\u001b[0m\u001b[0;34m=\u001b[0m\u001b[0;34m'F'\u001b[0m\u001b[0;34m)\u001b[0m\u001b[0;34m\u001b[0m\n",
      "\u001b[0;34m\u001b[0m                \u001b[0mt2c\u001b[0m\u001b[0;34m.\u001b[0m\u001b[0msave_cbin\u001b[0m\u001b[0;34m(\u001b[0m\u001b[0mfilename\u001b[0m\u001b[0;34m=\u001b[0m\u001b[0mself\u001b[0m\u001b[0;34m.\u001b[0m\u001b[0mresults_basename\u001b[0m \u001b[0;34m+\u001b[0m \u001b[0;34m\"IonRates\"\u001b[0m \u001b[0;34m+\u001b[0m \u001b[0msuffix\u001b[0m\u001b[0;34m,\u001b[0m \u001b[0mdata\u001b[0m\u001b[0;34m=\u001b[0m\u001b[0mself\u001b[0m\u001b[0;34m.\u001b[0m\u001b[0mphi_ion\u001b[0m\u001b[0;34m,\u001b[0m \u001b[0mbits\u001b[0m\u001b[0;34m=\u001b[0m\u001b[0;36m32\u001b[0m\u001b[0;34m,\u001b[0m \u001b[0morder\u001b[0m\u001b[0;34m=\u001b[0m\u001b[0;34m'F'\u001b[0m\u001b[0;34m)\u001b[0m\u001b[0;34m\u001b[0m\n",
      "\u001b[0;34m\u001b[0m                \u001b[0;31m#t2c.save_cbin(filename=self.results_basename + \"coldens\" + suffix, data=self.coldens, bits=64, order='F')\u001b[0m\u001b[0;34m\u001b[0m\n",
      "\u001b[0;34m\u001b[0m            \u001b[0;32melif\u001b[0m\u001b[0;34m(\u001b[0m\u001b[0msuffix\u001b[0m\u001b[0;34m.\u001b[0m\u001b[0mendswith\u001b[0m\u001b[0;34m(\u001b[0m\u001b[0;34m'.npy'\u001b[0m\u001b[0;34m)\u001b[0m\u001b[0;34m)\u001b[0m\u001b[0;34m:\u001b[0m\u001b[0;34m\u001b[0m\n",
      "\u001b[0;34m\u001b[0m                \u001b[0mnp\u001b[0m\u001b[0;34m.\u001b[0m\u001b[0msave\u001b[0m\u001b[0;34m(\u001b[0m\u001b[0mfile\u001b[0m\u001b[0;34m=\u001b[0m\u001b[0mself\u001b[0m\u001b[0;34m.\u001b[0m\u001b[0mresults_basename\u001b[0m \u001b[0;34m+\u001b[0m \u001b[0;34m\"xfrac\"\u001b[0m \u001b[0;34m+\u001b[0m \u001b[0msuffix\u001b[0m\u001b[0;34m,\u001b[0m \u001b[0marr\u001b[0m\u001b[0;34m=\u001b[0m\u001b[0mself\u001b[0m\u001b[0;34m.\u001b[0m\u001b[0mxh\u001b[0m\u001b[0;34m)\u001b[0m\u001b[0;34m\u001b[0m\n",
      "\u001b[0;34m\u001b[0m                \u001b[0mnp\u001b[0m\u001b[0;34m.\u001b[0m\u001b[0msave\u001b[0m\u001b[0;34m(\u001b[0m\u001b[0mfile\u001b[0m\u001b[0;34m=\u001b[0m\u001b[0mself\u001b[0m\u001b[0;34m.\u001b[0m\u001b[0mresults_basename\u001b[0m \u001b[0;34m+\u001b[0m \u001b[0;34m\"IonRates\"\u001b[0m \u001b[0;34m+\u001b[0m \u001b[0msuffix\u001b[0m\u001b[0;34m,\u001b[0m \u001b[0marr\u001b[0m\u001b[0;34m=\u001b[0m\u001b[0mself\u001b[0m\u001b[0;34m.\u001b[0m\u001b[0mphi_ion\u001b[0m\u001b[0;34m)\u001b[0m\u001b[0;34m\u001b[0m\n",
      "\u001b[0;34m\u001b[0m                \u001b[0;31m#np.save(file=self.results_basename + \"coldens\" + suffix, arr=self.coldens)\u001b[0m\u001b[0;34m\u001b[0m\n",
      "\u001b[0;34m\u001b[0m\u001b[0;34m\u001b[0m\n",
      "\u001b[0;34m\u001b[0m            \u001b[0;31m# print min, max and average quantities\u001b[0m\u001b[0;34m\u001b[0m\n",
      "\u001b[0;34m\u001b[0m            \u001b[0mself\u001b[0m\u001b[0;34m.\u001b[0m\u001b[0mprintlog\u001b[0m\u001b[0;34m(\u001b[0m\u001b[0;34m'\\n--- Reionization History ----'\u001b[0m\u001b[0;34m)\u001b[0m\u001b[0;34m\u001b[0m\n",
      "\u001b[0;34m\u001b[0m            \u001b[0mself\u001b[0m\u001b[0;34m.\u001b[0m\u001b[0mprintlog\u001b[0m\u001b[0;34m(\u001b[0m\u001b[0;34m' min, mean, max xHII : %.5e  %.5e  %.5e'\u001b[0m \u001b[0;34m%\u001b[0m\u001b[0;34m(\u001b[0m\u001b[0mself\u001b[0m\u001b[0;34m.\u001b[0m\u001b[0mxh\u001b[0m\u001b[0;34m.\u001b[0m\u001b[0mmin\u001b[0m\u001b[0;34m(\u001b[0m\u001b[0;34m)\u001b[0m\u001b[0;34m,\u001b[0m \u001b[0mself\u001b[0m\u001b[0;34m.\u001b[0m\u001b[0mxh\u001b[0m\u001b[0;34m.\u001b[0m\u001b[0mmean\u001b[0m\u001b[0;34m(\u001b[0m\u001b[0;34m)\u001b[0m\u001b[0;34m,\u001b[0m \u001b[0mself\u001b[0m\u001b[0;34m.\u001b[0m\u001b[0mxh\u001b[0m\u001b[0;34m.\u001b[0m\u001b[0mmax\u001b[0m\u001b[0;34m(\u001b[0m\u001b[0;34m)\u001b[0m\u001b[0;34m)\u001b[0m\u001b[0;34m)\u001b[0m\u001b[0;34m\u001b[0m\n",
      "\u001b[0;34m\u001b[0m            \u001b[0mself\u001b[0m\u001b[0;34m.\u001b[0m\u001b[0mprintlog\u001b[0m\u001b[0;34m(\u001b[0m\u001b[0;34m' min, mean, max Irate : %.5e  %.5e  %.5e [1/s]'\u001b[0m \u001b[0;34m%\u001b[0m\u001b[0;34m(\u001b[0m\u001b[0mself\u001b[0m\u001b[0;34m.\u001b[0m\u001b[0mphi_ion\u001b[0m\u001b[0;34m.\u001b[0m\u001b[0mmin\u001b[0m\u001b[0;34m(\u001b[0m\u001b[0;34m)\u001b[0m\u001b[0;34m,\u001b[0m \u001b[0mself\u001b[0m\u001b[0;34m.\u001b[0m\u001b[0mphi_ion\u001b[0m\u001b[0;34m.\u001b[0m\u001b[0mmean\u001b[0m\u001b[0;34m(\u001b[0m\u001b[0;34m)\u001b[0m\u001b[0;34m,\u001b[0m \u001b[0mself\u001b[0m\u001b[0;34m.\u001b[0m\u001b[0mphi_ion\u001b[0m\u001b[0;34m.\u001b[0m\u001b[0mmax\u001b[0m\u001b[0;34m(\u001b[0m\u001b[0;34m)\u001b[0m\u001b[0;34m)\u001b[0m\u001b[0;34m)\u001b[0m\u001b[0;34m\u001b[0m\n",
      "\u001b[0;34m\u001b[0m            \u001b[0mself\u001b[0m\u001b[0;34m.\u001b[0m\u001b[0mprintlog\u001b[0m\u001b[0;34m(\u001b[0m\u001b[0;34m' min, mean, max density : %.5e  %.5e  %.5e [1/cm3]'\u001b[0m \u001b[0;34m%\u001b[0m\u001b[0;34m(\u001b[0m\u001b[0mself\u001b[0m\u001b[0;34m.\u001b[0m\u001b[0mndens\u001b[0m\u001b[0;34m.\u001b[0m\u001b[0mmin\u001b[0m\u001b[0;34m(\u001b[0m\u001b[0;34m)\u001b[0m\u001b[0;34m,\u001b[0m \u001b[0mself\u001b[0m\u001b[0;34m.\u001b[0m\u001b[0mndens\u001b[0m\u001b[0;34m.\u001b[0m\u001b[0mmean\u001b[0m\u001b[0;34m(\u001b[0m\u001b[0;34m)\u001b[0m\u001b[0;34m,\u001b[0m \u001b[0mself\u001b[0m\u001b[0;34m.\u001b[0m\u001b[0mndens\u001b[0m\u001b[0;34m.\u001b[0m\u001b[0mmax\u001b[0m\u001b[0;34m(\u001b[0m\u001b[0;34m)\u001b[0m\u001b[0;34m)\u001b[0m\u001b[0;34m)\u001b[0m\u001b[0;34m\u001b[0m\n",
      "\u001b[0;34m\u001b[0m\u001b[0;34m\u001b[0m\n",
      "\u001b[0;34m\u001b[0m            \u001b[0;31m# write summary output file\u001b[0m\u001b[0;34m\u001b[0m\n",
      "\u001b[0;34m\u001b[0m            \u001b[0msummary_exist\u001b[0m \u001b[0;34m=\u001b[0m \u001b[0mos\u001b[0m\u001b[0;34m.\u001b[0m\u001b[0mpath\u001b[0m\u001b[0;34m.\u001b[0m\u001b[0mexists\u001b[0m\u001b[0;34m(\u001b[0m\u001b[0mself\u001b[0m\u001b[0;34m.\u001b[0m\u001b[0mresults_basename\u001b[0m\u001b[0;34m+\u001b[0m\u001b[0;34m'PhotonCounts2.txt'\u001b[0m\u001b[0;34m)\u001b[0m\u001b[0;34m\u001b[0m\n",
      "\u001b[0;34m\u001b[0m\u001b[0;34m\u001b[0m\n",
      "\u001b[0;34m\u001b[0m            \u001b[0;32mwith\u001b[0m \u001b[0mopen\u001b[0m\u001b[0;34m(\u001b[0m\u001b[0mself\u001b[0m\u001b[0;34m.\u001b[0m\u001b[0mresults_basename\u001b[0m\u001b[0;34m+\u001b[0m\u001b[0;34m'PhotonCounts2.txt'\u001b[0m\u001b[0;34m,\u001b[0m \u001b[0;34m'a'\u001b[0m\u001b[0;34m)\u001b[0m \u001b[0;32mas\u001b[0m \u001b[0mf\u001b[0m\u001b[0;34m:\u001b[0m\u001b[0;34m\u001b[0m\n",
      "\u001b[0;34m\u001b[0m                \u001b[0;32mif\u001b[0m \u001b[0;32mnot\u001b[0m \u001b[0;34m(\u001b[0m\u001b[0msummary_exist\u001b[0m\u001b[0;34m)\u001b[0m\u001b[0;34m:\u001b[0m\u001b[0;34m\u001b[0m\n",
      "\u001b[0;34m\u001b[0m                    \u001b[0mheader\u001b[0m \u001b[0;34m=\u001b[0m \u001b[0;34m'# z\\ttot HI atoms\\ttot phots\\t mean ndens [1/cm3]\\t mean Irate [1/s]\\tR_mfp [cMpc]\\tmean ionization fraction (by volume and mass)\\n'\u001b[0m\u001b[0;34m\u001b[0m\n",
      "\u001b[0;34m\u001b[0m                    \u001b[0mf\u001b[0m\u001b[0;34m.\u001b[0m\u001b[0mwrite\u001b[0m\u001b[0;34m(\u001b[0m\u001b[0mheader\u001b[0m\u001b[0;34m)\u001b[0m                \u001b[0;34m\u001b[0m\n",
      "\u001b[0;34m\u001b[0m\u001b[0;34m\u001b[0m\n",
      "\u001b[0;34m\u001b[0m                \u001b[0;31m# mass-average neutral faction\u001b[0m\u001b[0;34m\u001b[0m\n",
      "\u001b[0;34m\u001b[0m                \u001b[0mmassavrg_ion_frac\u001b[0m \u001b[0;34m=\u001b[0m \u001b[0mnp\u001b[0m\u001b[0;34m.\u001b[0m\u001b[0msum\u001b[0m\u001b[0;34m(\u001b[0m\u001b[0mself\u001b[0m\u001b[0;34m.\u001b[0m\u001b[0mxh\u001b[0m\u001b[0;34m*\u001b[0m\u001b[0mself\u001b[0m\u001b[0;34m.\u001b[0m\u001b[0mndens\u001b[0m\u001b[0;34m)\u001b[0m\u001b[0;34m/\u001b[0m\u001b[0mnp\u001b[0m\u001b[0;34m.\u001b[0m\u001b[0msum\u001b[0m\u001b[0;34m(\u001b[0m\u001b[0mself\u001b[0m\u001b[0;34m.\u001b[0m\u001b[0mndens\u001b[0m\u001b[0;34m)\u001b[0m\u001b[0;34m\u001b[0m\n",
      "\u001b[0;34m\u001b[0m\u001b[0;34m\u001b[0m\n",
      "\u001b[0;34m\u001b[0m                \u001b[0;31m# calculate total number of neutral hydrogen atoms        \u001b[0m\u001b[0;34m\u001b[0m\n",
      "\u001b[0;34m\u001b[0m                \u001b[0mtot_nHI\u001b[0m \u001b[0;34m=\u001b[0m \u001b[0mnp\u001b[0m\u001b[0;34m.\u001b[0m\u001b[0msum\u001b[0m\u001b[0;34m(\u001b[0m\u001b[0mself\u001b[0m\u001b[0;34m.\u001b[0m\u001b[0mndens\u001b[0m \u001b[0;34m*\u001b[0m \u001b[0;34m(\u001b[0m\u001b[0;36m1\u001b[0m\u001b[0;34m-\u001b[0m\u001b[0mself\u001b[0m\u001b[0;34m.\u001b[0m\u001b[0mxh\u001b[0m\u001b[0;34m)\u001b[0m \u001b[0;34m*\u001b[0m \u001b[0mself\u001b[0m\u001b[0;34m.\u001b[0m\u001b[0mdr\u001b[0m\u001b[0;34m**\u001b[0m\u001b[0;36m3\u001b[0m\u001b[0;34m)\u001b[0m\u001b[0;34m\u001b[0m\n",
      "\u001b[0;34m\u001b[0m\u001b[0;34m\u001b[0m\n",
      "\u001b[0;34m\u001b[0m                \u001b[0mtext\u001b[0m \u001b[0;34m=\u001b[0m \u001b[0;34m'%.3f\\t%.3e\\t%.3e\\t%.3e\\t%.3e\\t%.3e\\t%.3e\\t%.3e\\n'\u001b[0m \u001b[0;34m%\u001b[0m\u001b[0;34m(\u001b[0m\u001b[0mz\u001b[0m\u001b[0;34m,\u001b[0m \u001b[0mtot_nHI\u001b[0m\u001b[0;34m,\u001b[0m \u001b[0mself\u001b[0m\u001b[0;34m.\u001b[0m\u001b[0mtot_phots\u001b[0m\u001b[0;34m,\u001b[0m \u001b[0mnp\u001b[0m\u001b[0;34m.\u001b[0m\u001b[0mmean\u001b[0m\u001b[0;34m(\u001b[0m\u001b[0mself\u001b[0m\u001b[0;34m.\u001b[0m\u001b[0mndens\u001b[0m\u001b[0;34m)\u001b[0m\u001b[0;34m,\u001b[0m \u001b[0mnp\u001b[0m\u001b[0;34m.\u001b[0m\u001b[0mmean\u001b[0m\u001b[0;34m(\u001b[0m\u001b[0mself\u001b[0m\u001b[0;34m.\u001b[0m\u001b[0mphi_ion\u001b[0m\u001b[0;34m)\u001b[0m\u001b[0;34m,\u001b[0m \u001b[0mself\u001b[0m\u001b[0;34m.\u001b[0m\u001b[0mR_max_LLS\u001b[0m\u001b[0;34m/\u001b[0m\u001b[0mself\u001b[0m\u001b[0;34m.\u001b[0m\u001b[0mN\u001b[0m\u001b[0;34m*\u001b[0m\u001b[0mself\u001b[0m\u001b[0;34m.\u001b[0m\u001b[0mboxsize\u001b[0m\u001b[0;34m,\u001b[0m \u001b[0mnp\u001b[0m\u001b[0;34m.\u001b[0m\u001b[0mmean\u001b[0m\u001b[0;34m(\u001b[0m\u001b[0mself\u001b[0m\u001b[0;34m.\u001b[0m\u001b[0mxh\u001b[0m\u001b[0;34m)\u001b[0m\u001b[0;34m,\u001b[0m \u001b[0mmassavrg_ion_frac\u001b[0m\u001b[0;34m)\u001b[0m\u001b[0;34m\u001b[0m\n",
      "\u001b[0;34m\u001b[0m                \u001b[0mf\u001b[0m\u001b[0;34m.\u001b[0m\u001b[0mwrite\u001b[0m\u001b[0;34m(\u001b[0m\u001b[0mtext\u001b[0m\u001b[0;34m)\u001b[0m\u001b[0;34m\u001b[0m\n",
      "\u001b[0;34m\u001b[0m        \u001b[0;32melse\u001b[0m\u001b[0;34m:\u001b[0m\u001b[0;34m\u001b[0m\n",
      "\u001b[0;34m\u001b[0m            \u001b[0;31m# this is for the other ranks\u001b[0m\u001b[0;34m\u001b[0m\n",
      "\u001b[0;34m\u001b[0m            \u001b[0;32mpass\u001b[0m\u001b[0;34m\u001b[0m\u001b[0;34m\u001b[0m\u001b[0m\n",
      "\u001b[0;31mFile:\u001b[0m      ~/codes/pyC2Ray/pyc2ray/c2ray_base.py\n",
      "\u001b[0;31mType:\u001b[0m      method"
     ]
    }
   ],
   "source": [
    "sim.write_output??"
   ]
  },
  {
   "cell_type": "markdown",
   "id": "c2272898-9cc5-4044-956c-7341002529cb",
   "metadata": {},
   "source": [
    "## Existing Sub-class\n",
    "\n",
    "This tutorial is all about changing the methods of the basic class of the pyC$^2$Ray run.\n",
    "\n",
    "We provide a series of standard class can be `C2Ray_Test` class. This subclass of the basic class `C2Ray` is a version used for test simulations and which don't read N-body input and use simple generated source files.\n",
    "\n",
    "All the sub-class require a parameter file `parameters.yml` as input.\n",
    "\n",
    "- `c2ray_base.py`: implemented the basic function \n",
    "- `c2ray_cubep3m.py`: specific for CUBEP3M N-body\n",
    "- `c2ray_ramses.py`: specific for Ramses hyro N-body simulation\n",
    "- ... more to come"
   ]
  },
  {
   "cell_type": "code",
   "execution_count": 2,
   "id": "a261342f-995c-4bd1-a383-43bbf3cafed0",
   "metadata": {},
   "outputs": [
    {
     "name": "stdout",
     "output_type": "stream",
     "text": [
      "GPU Device 0: \"NVIDIA RTX A1000 6GB Laptop GPU\" with compute capability 8.6\n",
      "Succesfully allocated 67.1089 Mb of device memory for grid of size N = 128, with source batch size 1\n",
      "                 _________   ____            \n",
      "    ____  __  __/ ____/__ \\ / __ \\____ ___  __\n",
      "   / __ \\/ / / / /    __/ // /_/ / __ `/ / / /\n",
      "  / /_/ / /_/ / /___ / __// _, _/ /_/ / /_/ / \n",
      " / .___/\\__, /\\____//____/_/ |_|\\__,_/\\__, /  \n",
      "/_/    /____/                        /____/   \n",
      "\n",
      "Welcome! Mesh size is N = 128.\n",
      "Simulation Box size (comoving Mpc): 1.400e-02\n",
      "Cosmology is off.\n",
      "Using power-law opacity with 10000 table points between tau=10^(-20) and tau=10^(4)\n",
      "Using Black-Body sources with effective temperature T = 5.0e+04 K and Radius  1.437e-11 rsun\n",
      "Spectrum Frequency Range: 3.289e+15 to 1.316e+17 Hz\n",
      "This is Energy:           1.360e+01 to 5.442e+02 eV\n",
      "Integrating photoionization rates tables...\n",
      "INFO: No heating rates\n",
      "Successfully copied radiation tables to GPU memory.\n",
      "\n",
      "---- Calculated Clumping Factor (constant model):\n",
      " min, mean and max clumping : 1.000e+00  1.000e+00  1.000e+00\n",
      "\n",
      "---- Calculated Mean-Free Path (constant model):\n",
      "Maximum comoving distance for photons from source mfp = 15.00 cMpc (constant model).\n",
      " This corresponds to 137142.857 grid cells.\n",
      "Using ASORA Raytracing ( q_max = 193 )\n",
      "Running in non-MPI (single-GPU/CPU) mode\n",
      "Starting simulation... \n",
      "\n",
      "\n",
      "Running: \"C2Ray Test\"\n"
     ]
    }
   ],
   "source": [
    "sim = pc2r.C2Ray_Test(paramfile='parameters.yml')"
   ]
  },
  {
   "cell_type": "markdown",
   "id": "86d0c4b1",
   "metadata": {},
   "source": [
    "## Write a Sub-class for your Simulation\n",
    "\n",
    "Ideally, you would like to be able to define your simulation class and personalize it based on simulation requirements.\n",
    "\n",
    "For this reason, we suggest you create your own sub-class by inheriting the pyC$^2$Ray base class.\n",
    "\n",
    "The example below shows how to define a new simulation class named `C2Ray_tutorial`, which inherits from the base class `C2Ray`. Here, we add two methods that load a source list, `read_sources`, and the density field, `read_density`."
   ]
  },
  {
   "cell_type": "code",
   "execution_count": null,
   "id": "a018aa5f",
   "metadata": {},
   "outputs": [],
   "source": [
    "class C2Ray_tutorial(pc2r.c2ray_base.C2Ray):\n",
    "    def __init__(self, paramfile):\n",
    "        \"\"\"Basis class for a C2Ray Simulation\n",
    "\n",
    "        Parameters\n",
    "        ----------\n",
    "        paramfile : str\n",
    "            Name of a YAML file containing parameters for the C2Ray simulation\n",
    "        \"\"\"\n",
    "        super().__init__(paramfile)\n",
    "        self.printlog('Running: \"C2Ray tutorial for %d Mpc/h volume\"' %self.boxsize)\n",
    "\n",
    "    # ===========================================\n",
    "    # HEREAFTER: USER DEFINED METHODS\n",
    "    # ===========================================\n",
    "    \n",
    "    def read_sources(self, z, nsrc, dt):\n",
    "        np.random.seed(918)\n",
    "        \n",
    "        # Read random sources (e.g.: *.npy, *.h5, etc.)\n",
    "        pos_halo = np.random.uniform(low=0, high=sim.boxsize, size=(nsrc, 3))\n",
    "        mhalo = np.random.uniform(1e8, 1e14, nsrc)*u.Msun\n",
    "\n",
    "        # Define stellar-to-halo relation\n",
    "        fstar = 0.1\n",
    "        \n",
    "        # Define escaping fraction\n",
    "        fesc = 0.1\n",
    "        \n",
    "        # sum togheter the star mass for sources within the same voxel\n",
    "        pos_star, mstar = pc2r.other_utils.bin_sources(srcpos_mpc=pos_halo, mstar_msun=mhalo*fstar*fesc, boxsize=sim.boxsize, meshsize=sim.N)\n",
    "        \n",
    "        \"\"\"\n",
    "        pos_star = np.array([sim.N//2, sim.N//2, sim.N//2])\n",
    "        pos_star = pos_star[None,...]\n",
    "        mstar = np.array([1e14])\n",
    "        \"\"\"        \n",
    "        \n",
    "        # this reference flux is necessary only for a numercial reason\n",
    "        S_star_ref = 1e48\n",
    "        \n",
    "        # The normalize flux in CGS units\n",
    "        dotN = (mstar*u.Msun/(cst.m_p*dt)).cgs.value\n",
    "        \n",
    "        # calculate some quantity thtat you want to print (e.g. total number of ionizing photons)\n",
    "        self.tot_phots = np.sum(dotN * dt)\n",
    "\n",
    "        return pos_star, dotN/S_star_ref\n",
    "    \n",
    "    def read_density(self, z):\n",
    "        # Read the density field\n",
    "        self.ndens = 1e-6 * np.ones((sim.N, sim.N, sim.N))\n",
    "        return self.ndens"
   ]
  },
  {
   "cell_type": "code",
   "execution_count": 9,
   "id": "853e65b7",
   "metadata": {},
   "outputs": [
    {
     "name": "stdout",
     "output_type": "stream",
     "text": [
      "Number of GPUS 1\n",
      "                 _________   ____            \n",
      "    ____  __  __/ ____/__ \\ / __ \\____ ___  __\n",
      "   / __ \\/ / / / /    __/ // /_/ / __ `/ / / /\n",
      "  / /_/ / /_/ / /___ / __// _, _/ /_/ / /_/ / \n",
      " / .___/\\__, /\\____//____/_/ |_|\\__,_/\\__, /  \n",
      "/_/    /____/                        /____/   \n",
      "\n",
      "GPU Device ID 0: \"NVIDIA RTX A1000 6GB Laptop GPU\" with compute capability 8.6\n",
      "Successfully allocated 536.871 Mb of device memory for grid of size N = 256, with source batch size 1\n",
      "Welcome! Mesh size is N = 256.\n",
      "Simulation Box size (comoving Mpc): 1.280e+02\n",
      "Cosmology is on, scaling comoving quantities to the initial redshift, which is z0 = 12.000...\n",
      "Cosmological parameters used:\n",
      "h   = 0.6766, Tcmb0 = 2.725e+00\n",
      "Om0 = 0.3097, Ob0   = 0.0490\n",
      "Using power-law opacity with 10,000 table points between tau=10^(-20) and tau=10^(4)\n",
      "Using Black-Body sources with effective temperature T = 5.0e+04 K and Radius  1.437e-11 rsun\n",
      "Spectrum Frequency Range: 3.288e+15 to 1.316e+17 Hz\n",
      "This is Energy:           1.360e+01 to 5.442e+02 eV\n",
      "Integrating photoionization rates tables...\n",
      "INFO: No heating rates\n",
      "Successfully copied radiation tables to GPU memory.\n",
      "\n",
      "---- Calculated Clumping Factor (constant model):\n",
      " min, mean and max clumping : 1.000e+00  1.000e+00  1.000e+00\n",
      "\n",
      "---- Calculated Mean-Free Path (constant model):\n",
      "Maximum comoving distance for photons from source mfp = 15.00 cMpc (constant model).\n",
      " This corresponds to 30.000 grid cells.\n",
      "\n",
      "Using ASORA Raytracing ( q_max = 52 )\n",
      "Running in non-MPI (single-GPU/CPU) mode\n",
      "Starting simulation... \n",
      "\n",
      "\n",
      "Running: \"C2Ray tutorial for 128 Mpc/h volume\"\n"
     ]
    }
   ],
   "source": [
    "paramfile = './parameters.yml'\n",
    "\n",
    "# init the C2Ray class for the tutorial\n",
    "sim = C2Ray_tutorial(paramfile)"
   ]
  },
  {
   "cell_type": "code",
   "execution_count": 12,
   "id": "887b04a7",
   "metadata": {},
   "outputs": [],
   "source": [
    "# Read homogeneous density field\n",
    "ndens = sim.read_density(z=7.0)"
   ]
  },
  {
   "cell_type": "code",
   "execution_count": 17,
   "id": "c4189f9e",
   "metadata": {},
   "outputs": [
    {
     "name": "stdout",
     "output_type": "stream",
     "text": [
      "[[ 15 187  45]\n",
      " [ 15 218   1]\n",
      " [ 33  93  31]\n",
      " [ 50  28 170]\n",
      " [ 96 156 213]\n",
      " [185 199 122]\n",
      " [192 232 217]\n",
      " [224 121 197]\n",
      " [243 150 229]\n",
      " [255  90 252]]\n"
     ]
    }
   ],
   "source": [
    "# Read source files\n",
    "srcpos, normflux = sim.read_sources(nsrc=10, z=7.0, dt=10.*u.Myr)\n",
    "print(srcpos)"
   ]
  },
  {
   "cell_type": "code",
   "execution_count": null,
   "id": "6d073a6d",
   "metadata": {},
   "outputs": [],
   "source": []
  }
 ],
 "metadata": {
  "kernelspec": {
   "display_name": "Python 3",
   "language": "python",
   "name": "python3"
  },
  "language_info": {
   "codemirror_mode": {
    "name": "ipython",
    "version": 3
   },
   "file_extension": ".py",
   "mimetype": "text/x-python",
   "name": "python",
   "nbconvert_exporter": "python",
   "pygments_lexer": "ipython3",
   "version": "3.10.12"
  }
 },
 "nbformat": 4,
 "nbformat_minor": 5
}

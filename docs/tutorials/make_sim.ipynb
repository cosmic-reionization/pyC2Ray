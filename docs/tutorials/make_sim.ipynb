{
 "cells": [
  {
   "cell_type": "markdown",
   "id": "ec70a4e2",
   "metadata": {},
   "source": [
    "## Customize pyC$^2$Ray simulation class\n",
    "\n",
    "In this tutorial we will show you how to create your own simulation class for your own custom EoR simulation."
   ]
  },
  {
   "cell_type": "code",
   "execution_count": 1,
   "id": "a2b9c6c0",
   "metadata": {},
   "outputs": [
    {
     "name": "stderr",
     "output_type": "stream",
     "text": [
      "2025-03-17 14:11:08.800256: I tensorflow/core/util/port.cc:113] oneDNN custom operations are on. You may see slightly different numerical results due to floating-point round-off errors from different computation orders. To turn them off, set the environment variable `TF_ENABLE_ONEDNN_OPTS=0`.\n",
      "2025-03-17 14:11:08.826131: E external/local_xla/xla/stream_executor/cuda/cuda_dnn.cc:9261] Unable to register cuDNN factory: Attempting to register factory for plugin cuDNN when one has already been registered\n",
      "2025-03-17 14:11:08.826151: E external/local_xla/xla/stream_executor/cuda/cuda_fft.cc:607] Unable to register cuFFT factory: Attempting to register factory for plugin cuFFT when one has already been registered\n",
      "2025-03-17 14:11:08.826837: E external/local_xla/xla/stream_executor/cuda/cuda_blas.cc:1515] Unable to register cuBLAS factory: Attempting to register factory for plugin cuBLAS when one has already been registered\n",
      "2025-03-17 14:11:08.831300: I tensorflow/core/platform/cpu_feature_guard.cc:182] This TensorFlow binary is optimized to use available CPU instructions in performance-critical operations.\n",
      "To enable the following instructions: AVX2 AVX_VNNI FMA, in other operations, rebuild TensorFlow with the appropriate compiler flags.\n",
      "2025-03-17 14:11:09.351611: W tensorflow/compiler/tf2tensorrt/utils/py_utils.cc:38] TF-TRT Warning: Could not find TensorRT\n"
     ]
    }
   ],
   "source": [
    "import pyc2ray as pc2r\n",
    "import numpy as np, yaml\n",
    "import matplotlib.pyplot as plt\n",
    "import astropy.units as u\n",
    "import astropy.constants as cst"
   ]
  },
  {
   "cell_type": "markdown",
   "id": "e4eb81ea-2a37-43bd-b8e0-b0317a4d10a7",
   "metadata": {},
   "source": [
    "A fundamental tool of the pyC$^2$Ray simulation is the `C2Ray` python class. This object groups the basic required functions to setup a simulation (e.g.: cosmology, time-evolution, I/O, raytracing and chemistry, etc.) and access and menages the parameters in the parameter file.\n",
    "\n",
    "We suggest that you have a look at the tutorial on [$\\S$ params_example.ipynb](params_example.ipynb) for an overview on the parameters file.\n",
    "\n",
    "pyC$^2$Ray provides a basic class that is inheridted by the existing and more extensive class"
   ]
  },
  {
   "cell_type": "code",
   "execution_count": 2,
   "id": "e95a0851-14c8-4026-b0bd-2852da24a278",
   "metadata": {
    "tags": []
   },
   "outputs": [
    {
     "name": "stdout",
     "output_type": "stream",
     "text": [
      "                 _________   ____            \n",
      "    ____  __  __/ ____/__ \\ / __ \\____ ___  __\n",
      "   / __ \\/ / / / /    __/ // /_/ / __ `/ / / /\n",
      "  / /_/ / /_/ / /___ / __// _, _/ /_/ / /_/ / \n",
      " / .___/\\__, /\\____//____/_/ |_|\\__,_/\\__, /  \n",
      "/_/    /____/                        /____/   \n",
      "\n",
      "Number of GPUS 1\n",
      "GPU Device ID 0: \"NVIDIA RTX A1000 6GB Laptop GPU\" with compute capability 8.6\n",
      "Successfully allocated 536.871 Mb of device memory for grid of size N = 256, with source batch size 1\n",
      "Welcome! Mesh size is N = 256.\n",
      "Simulation Box size (comoving Mpc): 1.280e+02\n",
      "Cosmology is on, scaling comoving quantities to the initial redshift, which is z0 = 12.000...\n",
      "Cosmological parameters used:\n",
      "h   = 0.6766, Tcmb0 = 2.725e+00\n",
      "Om0 = 0.3097, Ob0   = 0.0490\n",
      "Using power-law opacity with 10,000 table points between tau=10^(-20) and tau=10^(4)\n",
      "Using Black-Body sources with effective temperature T = 5.0e+04 K and Radius  1.437e-11 rsun\n",
      "Spectrum Frequency Range: 3.288e+15 to 1.316e+17 Hz\n",
      "This is Energy:           1.360e+01 to 5.442e+02 eV\n",
      "Integrating photoionization rates tables...\n",
      "INFO: No heating rates\n",
      "Successfully copied radiation tables to GPU memory.\n",
      "\n",
      "---- Calculated Clumping Factor (constant model):\n",
      " min, mean and max clumping : 1.000e+00  1.000e+00  1.000e+00\n",
      "\n",
      "---- Calculated Mean-Free Path (constant model):\n",
      "Maximum comoving distance for photons from source mfp = 15.00 cMpc (constant model).\n",
      " This corresponds to 30.000 grid cells.\n",
      "\n",
      "Using ASORA Raytracing ( q_max = 52 )\n",
      "Running in non-MPI (single-GPU/CPU) mode\n",
      "Starting simulation... \n",
      "\n",
      "\n"
     ]
    }
   ],
   "source": [
    "sim = pc2r.C2Ray(paramfile='parameters.yml')"
   ]
  },
  {
   "cell_type": "code",
   "execution_count": 3,
   "id": "d3889afc-c271-4160-974a-6f1217bb730a",
   "metadata": {
    "tags": []
   },
   "outputs": [
    {
     "data": {
      "text/latex": [
       "$24.678583 \\; \\mathrm{Myr}$"
      ],
      "text/plain": [
       "<Quantity 24.67858278 Myr>"
      ]
     },
     "execution_count": 3,
     "metadata": {},
     "output_type": "execute_result"
    }
   ],
   "source": [
    "dt = sim.set_timestep(z1=11.5, z2=11.0, num_timesteps=1) * u.s\n",
    "dt.to('Myr')"
   ]
  },
  {
   "cell_type": "code",
   "execution_count": 12,
   "id": "cc078e6c-c8db-4be9-8c25-b292eb1de0fd",
   "metadata": {
    "tags": []
   },
   "outputs": [],
   "source": [
    "sim.write_output??"
   ]
  },
  {
   "cell_type": "markdown",
   "id": "c2272898-9cc5-4044-956c-7341002529cb",
   "metadata": {},
   "source": [
    "## Existing Sub-class\n",
    "\n",
    "This tutorial is all about changing the methods of the basic class of the pyC$^2$Ray run.\n",
    "\n",
    "We provide a series of standard class can be `C2Ray_Test` class. This subclass of the basic class `C2Ray` is a version used for test simulations and which don't read N-body input and use simple generated source files.\n",
    "\n",
    "All the sub-class require a parameter file `parameters.yml` as input.\n",
    "\n",
    "- `c2ray_base.py`: implemented the basic function \n",
    "- `c2ray_cubep3m.py`: specific for CUBEP3M N-body\n",
    "- `c2ray_ramses.py`: specific for Ramses hyro N-body simulation\n",
    "- ... more to come"
   ]
  },
  {
   "cell_type": "code",
   "execution_count": 2,
   "id": "a261342f-995c-4bd1-a383-43bbf3cafed0",
   "metadata": {},
   "outputs": [
    {
     "name": "stdout",
     "output_type": "stream",
     "text": [
      "GPU Device 0: \"NVIDIA RTX A1000 6GB Laptop GPU\" with compute capability 8.6\n",
      "Succesfully allocated 67.1089 Mb of device memory for grid of size N = 128, with source batch size 1\n",
      "                 _________   ____            \n",
      "    ____  __  __/ ____/__ \\ / __ \\____ ___  __\n",
      "   / __ \\/ / / / /    __/ // /_/ / __ `/ / / /\n",
      "  / /_/ / /_/ / /___ / __// _, _/ /_/ / /_/ / \n",
      " / .___/\\__, /\\____//____/_/ |_|\\__,_/\\__, /  \n",
      "/_/    /____/                        /____/   \n",
      "\n",
      "Welcome! Mesh size is N = 128.\n",
      "Simulation Box size (comoving Mpc): 1.400e-02\n",
      "Cosmology is off.\n",
      "Using power-law opacity with 10000 table points between tau=10^(-20) and tau=10^(4)\n",
      "Using Black-Body sources with effective temperature T = 5.0e+04 K and Radius  1.437e-11 rsun\n",
      "Spectrum Frequency Range: 3.289e+15 to 1.316e+17 Hz\n",
      "This is Energy:           1.360e+01 to 5.442e+02 eV\n",
      "Integrating photoionization rates tables...\n",
      "INFO: No heating rates\n",
      "Successfully copied radiation tables to GPU memory.\n",
      "\n",
      "---- Calculated Clumping Factor (constant model):\n",
      " min, mean and max clumping : 1.000e+00  1.000e+00  1.000e+00\n",
      "\n",
      "---- Calculated Mean-Free Path (constant model):\n",
      "Maximum comoving distance for photons from source mfp = 15.00 cMpc (constant model).\n",
      " This corresponds to 137142.857 grid cells.\n",
      "Using ASORA Raytracing ( q_max = 193 )\n",
      "Running in non-MPI (single-GPU/CPU) mode\n",
      "Starting simulation... \n",
      "\n",
      "\n",
      "Running: \"C2Ray Test\"\n"
     ]
    }
   ],
   "source": [
    "sim = pc2r.C2Ray_Test(paramfile='parameters.yml')"
   ]
  },
  {
   "cell_type": "markdown",
   "id": "86d0c4b1",
   "metadata": {},
   "source": [
    "## Write a Sub-class for your simulation"
   ]
  },
  {
   "cell_type": "code",
   "execution_count": 7,
   "id": "a018aa5f",
   "metadata": {},
   "outputs": [],
   "source": [
    "class C2Ray_tutorial(pc2r.c2ray_base.C2Ray):\n",
    "    def __init__(self, paramfile):\n",
    "        \"\"\"Basis class for a C2Ray Simulation\n",
    "\n",
    "        Parameters\n",
    "        ----------\n",
    "        paramfile : str\n",
    "            Name of a YAML file containing parameters for the C2Ray simulation\n",
    "        \"\"\"\n",
    "        super().__init__(paramfile)\n",
    "        self.printlog('Running: \"C2Ray tutorial for %d Mpc/h volume\"' %self.boxsize)\n",
    "\n",
    "    # ===========================================\n",
    "    # HEREAFTER: USER DEFINED METHODS\n",
    "    # ===========================================\n",
    "    \n",
    "    def read_sources(self, z, nsrc, dt):\n",
    "        np.random.seed(918)\n",
    "        \n",
    "        # Read random sources (e.g.: *.npy, *.h5, etc.)\n",
    "        pos_halo = np.random.uniform(low=0, high=sim.boxsize, size=(nsrc, 3))\n",
    "        mhalo = np.random.uniform(1e8, 1e14, nsrc)*u.Msun\n",
    "\n",
    "        # Define stellar-to-halo relation\n",
    "        fstar = 0.1\n",
    "        \n",
    "        # Define escaping fraction\n",
    "        fesc = 0.1\n",
    "        \n",
    "        # sum togheter the star mass for sources within the same voxel\n",
    "        pos_star, mstar = pc2r.other_utils.bin_sources(srcpos_mpc=pos_halo, mstar_msun=mhalo*fstar*fesc, boxsize=sim.boxsize, meshsize=sim.N)\n",
    "        \n",
    "        \"\"\"\n",
    "        pos_star = np.array([sim.N//2, sim.N//2, sim.N//2])\n",
    "        pos_star = pos_star[None,...]\n",
    "        mstar = np.array([1e14])\n",
    "        \"\"\"        \n",
    "        \n",
    "        # this reference flux is necessary only for a numercial reason\n",
    "        S_star_ref = 1e48\n",
    "        \n",
    "        # The normalize flux in CGS units\n",
    "        dotN = (mstar*u.Msun/(cst.m_p*dt)).cgs.value\n",
    "        \n",
    "        # calculate some quantity thtat you want to print (e.g. total number of ionizing photons)\n",
    "        self.tot_phots = np.sum(dotN * dt)\n",
    "\n",
    "        return pos_star, dotN/S_star_ref\n",
    "    \n",
    "    def read_density(self, z):\n",
    "        # Read the density field\n",
    "        self.ndens = 1e-6 * np.ones((sim.N, sim.N, sim.N))\n",
    "        return self.ndens"
   ]
  },
  {
   "cell_type": "code",
   "execution_count": 9,
   "id": "853e65b7",
   "metadata": {},
   "outputs": [
    {
     "name": "stdout",
     "output_type": "stream",
     "text": [
      "Number of GPUS 1\n",
      "                 _________   ____            \n",
      "    ____  __  __/ ____/__ \\ / __ \\____ ___  __\n",
      "   / __ \\/ / / / /    __/ // /_/ / __ `/ / / /\n",
      "  / /_/ / /_/ / /___ / __// _, _/ /_/ / /_/ / \n",
      " / .___/\\__, /\\____//____/_/ |_|\\__,_/\\__, /  \n",
      "/_/    /____/                        /____/   \n",
      "\n",
      "GPU Device ID 0: \"NVIDIA RTX A1000 6GB Laptop GPU\" with compute capability 8.6\n",
      "Successfully allocated 536.871 Mb of device memory for grid of size N = 256, with source batch size 1\n",
      "Welcome! Mesh size is N = 256.\n",
      "Simulation Box size (comoving Mpc): 1.280e+02\n",
      "Cosmology is on, scaling comoving quantities to the initial redshift, which is z0 = 12.000...\n",
      "Cosmological parameters used:\n",
      "h   = 0.6766, Tcmb0 = 2.725e+00\n",
      "Om0 = 0.3097, Ob0   = 0.0490\n",
      "Using power-law opacity with 10,000 table points between tau=10^(-20) and tau=10^(4)\n",
      "Using Black-Body sources with effective temperature T = 5.0e+04 K and Radius  1.437e-11 rsun\n",
      "Spectrum Frequency Range: 3.288e+15 to 1.316e+17 Hz\n",
      "This is Energy:           1.360e+01 to 5.442e+02 eV\n",
      "Integrating photoionization rates tables...\n",
      "INFO: No heating rates\n",
      "Successfully copied radiation tables to GPU memory.\n",
      "\n",
      "---- Calculated Clumping Factor (constant model):\n",
      " min, mean and max clumping : 1.000e+00  1.000e+00  1.000e+00\n",
      "\n",
      "---- Calculated Mean-Free Path (constant model):\n",
      "Maximum comoving distance for photons from source mfp = 15.00 cMpc (constant model).\n",
      " This corresponds to 30.000 grid cells.\n",
      "\n",
      "Using ASORA Raytracing ( q_max = 52 )\n",
      "Running in non-MPI (single-GPU/CPU) mode\n",
      "Starting simulation... \n",
      "\n",
      "\n",
      "Running: \"C2Ray tutorial for 128 Mpc/h volume\"\n"
     ]
    }
   ],
   "source": [
    "paramfile = './parameters.yml'\n",
    "\n",
    "# init the C2Ray class for the tutorial\n",
    "sim = C2Ray_tutorial(paramfile)"
   ]
  },
  {
   "cell_type": "code",
   "execution_count": 12,
   "id": "887b04a7",
   "metadata": {},
   "outputs": [],
   "source": [
    "# Read homogeneous density field\n",
    "ndens = sim.read_density(z=7.0)"
   ]
  },
  {
   "cell_type": "code",
   "execution_count": 17,
   "id": "c4189f9e",
   "metadata": {},
   "outputs": [
    {
     "name": "stdout",
     "output_type": "stream",
     "text": [
      "[[ 15 187  45]\n",
      " [ 15 218   1]\n",
      " [ 33  93  31]\n",
      " [ 50  28 170]\n",
      " [ 96 156 213]\n",
      " [185 199 122]\n",
      " [192 232 217]\n",
      " [224 121 197]\n",
      " [243 150 229]\n",
      " [255  90 252]]\n"
     ]
    }
   ],
   "source": [
    "# Read source files\n",
    "srcpos, normflux = sim.read_sources(nsrc=10, z=7.0, dt=10.*u.Myr)\n",
    "print(srcpos)"
   ]
  },
  {
   "cell_type": "code",
   "execution_count": 18,
   "id": "9b4e9f9c",
   "metadata": {},
   "outputs": [
    {
     "data": {
      "text/latex": [
       "$67.66 \\; \\mathrm{\\frac{km}{Mpc\\,s}}$"
      ],
      "text/plain": [
       "<Quantity 67.66 km / (Mpc s)>"
      ]
     },
     "execution_count": 18,
     "metadata": {},
     "output_type": "execute_result"
    }
   ],
   "source": [
    "sim.cosmology.H0"
   ]
  },
  {
   "cell_type": "code",
   "execution_count": null,
   "id": "6d073a6d",
   "metadata": {},
   "outputs": [],
   "source": []
  }
 ],
 "metadata": {
  "kernelspec": {
   "display_name": "Python 3 (ipykernel)",
   "language": "python",
   "name": "python3"
  },
  "language_info": {
   "codemirror_mode": {
    "name": "ipython",
    "version": 3
   },
   "file_extension": ".py",
   "mimetype": "text/x-python",
   "name": "python",
   "nbconvert_exporter": "python",
   "pygments_lexer": "ipython3",
   "version": "3.10.12"
  }
 },
 "nbformat": 4,
 "nbformat_minor": 5
}

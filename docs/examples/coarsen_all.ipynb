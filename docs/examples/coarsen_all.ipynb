{
 "cells": [
  {
   "cell_type": "markdown",
   "id": "dd916686",
   "metadata": {},
   "source": [
    "Coarsen a density grid and source file. "
   ]
  },
  {
   "cell_type": "code",
   "execution_count": 27,
   "id": "eb68f735",
   "metadata": {},
   "outputs": [
    {
     "name": "stdout",
     "output_type": "stream",
     "text": [
      "['/home/iti20/software/pyC2Ray/pyc2ray-env/lib/python3.12/site-packages/tools21cm-2.2.10-py3.12-linux-x86_64.egg', '/home/iti20/software/pyC2Ray/pyc2ray-env/bin', '/home/iti20/software/pyC2Ray/pyc2ray-env/lib/python3.12/site-packages/tools21cm-2.2.10-py3.12-linux-x86_64.egg', '/home/iti20/software/pyC2Ray/pyc2ray-env/bin', '/home/iti20/codes/pyC2Ray/docs/examples', '/home/iti20/software/tools21cm', '/home/iti20/software/pyC2Ray', '/home/iti20/c2raytools', '/home/iti20', '/home/iti20/python', '/usr/lib/python312.zip', '/usr/lib/python3.12', '/usr/lib/python3.12/lib-dynload', '', '/usr/local/lib/python3.12/dist-packages', '/usr/lib/python3/dist-packages', '/opt/rocm-6.3.3/lib']\n"
     ]
    }
   ],
   "source": [
    "import sys\n",
    "print(sys.path)\n",
    "import os\n",
    "\n",
    "sys.path.insert(0, os.path.abspath('/home/iti20/software/pyC2Ray/pyc2ray-env/bin'))\n",
    "sys.path.insert(0, os.path.abspath('/home/iti20/software/pyC2Ray/pyc2ray-env/lib/python3.12/site-packages/tools21cm-2.2.10-py3.12-linux-x86_64.egg'))\n"
   ]
  },
  {
   "cell_type": "code",
   "execution_count": 28,
   "id": "18ae09bd",
   "metadata": {},
   "outputs": [],
   "source": [
    "import pyc2ray as pc2r\n",
    "import tools21cm as t2c\n",
    "import numpy as np, matplotlib.pyplot as plt\n",
    "import bisect\n",
    "\n",
    "from matplotlib.colors import LogNorm"
   ]
  },
  {
   "cell_type": "markdown",
   "id": "6dbdd818",
   "metadata": {},
   "source": [
    "### Reading simulation data\n",
    "Here we read the ionisation fraction data cube produced with the [pyC2Ray](https://github.com/cosmic-reionization/pyC2Ray) code. For the density field, we will consider the gridded density field created by an N-body code, [CubeP3M](https://github.com/jharno/cubep3m), which were used by pyC2Ray code as input."
   ]
  },
  {
   "cell_type": "code",
   "execution_count": 29,
   "id": "ec0c65a0",
   "metadata": {},
   "outputs": [
    {
     "name": "stdout",
     "output_type": "stream",
     "text": [
      "[ 5.75   6.     6.056  6.113  6.172  6.231  6.292  6.354  6.418  6.483\n",
      "  6.549  6.617  6.686  6.757  6.83   6.905  6.981  7.059  7.139  7.221\n",
      "  7.305  7.391  7.48   7.57   7.664  7.76   7.859  7.96   8.064  8.172\n",
      "  8.283  8.397  8.515  8.636  8.762  8.892  9.026  9.164  9.308  9.457\n",
      "  9.611  9.771  9.938 10.11  10.29  10.478 10.673 10.877 11.09  11.313\n",
      " 11.546 11.791 12.048 12.318 12.603 12.903 13.221 13.557 13.914 14.294\n",
      " 14.699 15.132 15.596 16.095 16.633 17.215 17.848 18.54  19.298 20.134\n",
      " 21.062 22.1   23.268 24.597 26.124 27.9   30.   ]\n"
     ]
    }
   ],
   "source": [
    "path_to_densityfiles = '/media/iti20/4store_toshiba/244Mpc_WMAP3+/coarser_data_SPH_4000_244Mpc/nc250/'\n",
    "zs_set=t2c.usefuls.get_zs_list(path_to_densityfiles, file_type='/*n_all.dat')\n",
    "\n",
    "print(zs_set)\n",
    "\n",
    "coarsening_fraction = 2  # by what factor do we want to coarsen the grid?\n",
    "                       # make sure the original grid size is divisible by this factor"
   ]
  },
  {
   "cell_type": "code",
   "execution_count": null,
   "id": "9c3a13e2",
   "metadata": {},
   "outputs": [],
   "source": [
    "t2c.set_sim_constants(244) # This line is only useful while working with C2Ray simulations.\n",
    "\n",
    "for z in zs_set:\n",
    "    z_string = str(z)\n",
    "    d_file = t2c.DensityFile(path_to_densityfiles+'%.3fn_all.dat' %z)\n",
    "                             #% zs_set[1+bisect.bisect_left(zs_set, z+0.0001)])\n",
    "    dtot_file = t2c.DensityFile(path_to_densityfiles+'%.3fntot_all.dat' %z)\n",
    "    #z_float=float(z_string)\n",
    "    dens  = d_file.raw_density\n",
    "    dens_tot = dtot_file.raw_density\n",
    "#print(np.shape(dens))\n",
    "\n",
    "    grid_size=dens.shape[0]\n",
    "#    print(grid_size)\n",
    "\n",
    "#    dens_avg = np.sum(dens)/grid_size**3\n",
    "#    print(dens_avg)\n",
    "\n",
    "    coarse_grid_size = grid_size//coarsening_fraction\n",
    "\n",
    "#    print(coarse_grid_size)\n",
    "    if grid_size%coarsening_fraction!=0:\n",
    "        print('this is not dividing evenly, fix it')\n",
    "    coarse_density=np.zeros((coarse_grid_size,coarse_grid_size,coarse_grid_size), dtype='float32')\n",
    "    coarse_totdensity=np.zeros((coarse_grid_size,coarse_grid_size,coarse_grid_size), dtype='float32')\n",
    "    for i in range(coarse_grid_size):\n",
    "        for j in range(coarse_grid_size):\n",
    "            for k in range(coarse_grid_size):\n",
    "                coarse_density[i,j,k] = dens[i*coarsening_fraction:(i+1)*coarsening_fraction-1,j*coarsening_fraction:(j+1)*coarsening_fraction-1,k*coarsening_fraction:(k+1)*coarsening_fraction-1].sum()\n",
    "                coarse_totdensity[i,j,k] = dens_tot[i*coarsening_fraction:(i+1)*coarsening_fraction-1,j*coarsening_fraction:(j+1)*coarsening_fraction-1,k*coarsening_fraction:(k+1)*coarsening_fraction-1].sum()\n",
    "\n",
    "    filename = ('./'+'%.3fncoarse_all.dat' %z)  \n",
    "    filename_tot = ('./'+'%.3fntotcoarse_all.dat' %z)\n",
    "\n",
    "    f = open(filename, 'wb')\n",
    "    ftot = open(filename_tot, 'wb')\n",
    "    \n",
    "\n",
    "    mesh_x, mesh_y, mesh_z = coarse_density.shape[0],coarse_density.shape[1],coarse_density.shape[2]\n",
    "    mesh_coarse=np.array([mesh_x,mesh_y,mesh_z],dtype='int32')\n",
    "\n",
    "    #print(mesh_coarse)\n",
    "\n",
    "    #swap 1st and 3rd axes to orient the array the same as before (why were they flipped??)\n",
    "    coarse_density_swapped=np.swapaxes(coarse_density, 0, 2)\n",
    "    coarse_totdensity_swapped=np.swapaxes(coarse_totdensity, 0, 2)\n",
    "    \n",
    "    mesh_coarse.tofile(f)\n",
    "    coarse_density_swapped.tofile(f)\n",
    "\n",
    "    mesh_coarse.tofile(ftot)\n",
    "    coarse_totdensity_swapped.tofile(ftot)    \n",
    "    \n",
    "    f.close()\n",
    "    ftot.close()\n"
   ]
  },
  {
   "cell_type": "code",
   "execution_count": null,
   "id": "b4b5b279",
   "metadata": {},
   "outputs": [],
   "source": [
    "path_to_sourcefiles = '/media/iti20/4store_toshiba/244Mpc_WMAP3+/sources/'\n",
    "\n",
    "for z in zs_set:\n",
    "    s_file = path_to_sourcefiles+'%.3f-coarsest_sources.dat' %z\n",
    "    print(s_file)\n",
    "    src = np.loadtxt(s_file, skiprows=1)\n",
    "    print(src[0,:])\n",
    "    #src_coarse==src\n",
    "    src[:,0:3]=src[:,0:3]//coarsening_fraction+src[:0:3]%coarsening_fraction\n",
    "    new_file = './'+'%.3f-coarsened_sources.dat' %z\n",
    "    np.savetxt(new_file,src)"
   ]
  },
  {
   "cell_type": "code",
   "execution_count": null,
   "id": "96395e37",
   "metadata": {},
   "outputs": [],
   "source": []
  }
 ],
 "metadata": {
  "kernelspec": {
   "display_name": "Python 3 (ipykernel)",
   "language": "python",
   "name": "python3"
  },
  "language_info": {
   "codemirror_mode": {
    "name": "ipython",
    "version": 3
   },
   "file_extension": ".py",
   "mimetype": "text/x-python",
   "name": "python",
   "nbconvert_exporter": "python",
   "pygments_lexer": "ipython3",
   "version": "3.12.3"
  }
 },
 "nbformat": 4,
 "nbformat_minor": 5
}
